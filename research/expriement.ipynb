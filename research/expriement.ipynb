{
 "cells": [
  {
   "cell_type": "code",
   "execution_count": 1,
   "metadata": {},
   "outputs": [],
   "source": [
    "import os\n",
    "from dotenv import load_dotenv\n",
    "\n"
   ]
  },
  {
   "cell_type": "code",
   "execution_count": 2,
   "metadata": {},
   "outputs": [],
   "source": [
    "load_dotenv()\n",
    "GOOGLE_API_KEY= os.getenv(\"GOOGLE_API_KEY\")\n",
    "\n",
    "\n"
   ]
  },
  {
   "cell_type": "code",
   "execution_count": 3,
   "metadata": {},
   "outputs": [],
   "source": [
    "if GOOGLE_API_KEY is None:\n",
    "\t# Set a default value or prompt the user to input the API key\n",
    "\tGOOGLE_API_KEY = \"AIzaSyACd3MRLY2yYBQUsxHtTFOflLRyNGR\"  # Replace with a valid API key\n",
    "\n",
    "os.environ[\"GOOGLE_API_KEY\"] = GOOGLE_API_KEY\n"
   ]
  },
  {
   "cell_type": "code",
   "execution_count": 1,
   "metadata": {},
   "outputs": [
    {
     "name": "stdout",
     "output_type": "stream",
     "text": [
      "Requirement already satisfied: langchain in c:\\users\\sri krishna mishra\\anaconda3\\lib\\site-packages (0.3.23)\n",
      "Requirement already satisfied: langchain-core<1.0.0,>=0.3.51 in c:\\users\\sri krishna mishra\\anaconda3\\lib\\site-packages (from langchain) (0.3.51)\n",
      "Requirement already satisfied: langchain-text-splitters<1.0.0,>=0.3.8 in c:\\users\\sri krishna mishra\\anaconda3\\lib\\site-packages (from langchain) (0.3.8)\n",
      "Requirement already satisfied: langsmith<0.4,>=0.1.17 in c:\\users\\sri krishna mishra\\anaconda3\\lib\\site-packages (from langchain) (0.3.19)\n",
      "Requirement already satisfied: pydantic<3.0.0,>=2.7.4 in c:\\users\\sri krishna mishra\\anaconda3\\lib\\site-packages (from langchain) (2.11.1)\n",
      "Requirement already satisfied: SQLAlchemy<3,>=1.4 in c:\\users\\sri krishna mishra\\anaconda3\\lib\\site-packages (from langchain) (2.0.30)\n",
      "Requirement already satisfied: requests<3,>=2 in c:\\users\\sri krishna mishra\\anaconda3\\lib\\site-packages (from langchain) (2.32.2)\n",
      "Requirement already satisfied: PyYAML>=5.3 in c:\\users\\sri krishna mishra\\anaconda3\\lib\\site-packages (from langchain) (6.0.1)\n",
      "Requirement already satisfied: tenacity!=8.4.0,<10.0.0,>=8.1.0 in c:\\users\\sri krishna mishra\\anaconda3\\lib\\site-packages (from langchain-core<1.0.0,>=0.3.51->langchain) (8.2.2)\n",
      "Requirement already satisfied: jsonpatch<2.0,>=1.33 in c:\\users\\sri krishna mishra\\anaconda3\\lib\\site-packages (from langchain-core<1.0.0,>=0.3.51->langchain) (1.33)\n",
      "Requirement already satisfied: packaging<25,>=23.2 in c:\\users\\sri krishna mishra\\anaconda3\\lib\\site-packages (from langchain-core<1.0.0,>=0.3.51->langchain) (23.2)\n",
      "Requirement already satisfied: typing-extensions>=4.7 in c:\\users\\sri krishna mishra\\anaconda3\\lib\\site-packages (from langchain-core<1.0.0,>=0.3.51->langchain) (4.13.0)\n",
      "Requirement already satisfied: httpx<1,>=0.23.0 in c:\\users\\sri krishna mishra\\anaconda3\\lib\\site-packages (from langsmith<0.4,>=0.1.17->langchain) (0.28.1)\n",
      "Requirement already satisfied: orjson<4.0.0,>=3.9.14 in c:\\users\\sri krishna mishra\\anaconda3\\lib\\site-packages (from langsmith<0.4,>=0.1.17->langchain) (3.10.16)\n",
      "Requirement already satisfied: requests-toolbelt<2.0.0,>=1.0.0 in c:\\users\\sri krishna mishra\\anaconda3\\lib\\site-packages (from langsmith<0.4,>=0.1.17->langchain) (1.0.0)\n",
      "Requirement already satisfied: zstandard<0.24.0,>=0.23.0 in c:\\users\\sri krishna mishra\\anaconda3\\lib\\site-packages (from langsmith<0.4,>=0.1.17->langchain) (0.23.0)\n",
      "Requirement already satisfied: annotated-types>=0.6.0 in c:\\users\\sri krishna mishra\\anaconda3\\lib\\site-packages (from pydantic<3.0.0,>=2.7.4->langchain) (0.6.0)\n",
      "Requirement already satisfied: pydantic-core==2.33.0 in c:\\users\\sri krishna mishra\\anaconda3\\lib\\site-packages (from pydantic<3.0.0,>=2.7.4->langchain) (2.33.0)\n",
      "Requirement already satisfied: typing-inspection>=0.4.0 in c:\\users\\sri krishna mishra\\anaconda3\\lib\\site-packages (from pydantic<3.0.0,>=2.7.4->langchain) (0.4.0)\n",
      "Requirement already satisfied: charset-normalizer<4,>=2 in c:\\users\\sri krishna mishra\\anaconda3\\lib\\site-packages (from requests<3,>=2->langchain) (2.0.4)\n",
      "Requirement already satisfied: idna<4,>=2.5 in c:\\users\\sri krishna mishra\\anaconda3\\lib\\site-packages (from requests<3,>=2->langchain) (3.7)\n",
      "Requirement already satisfied: urllib3<3,>=1.21.1 in c:\\users\\sri krishna mishra\\anaconda3\\lib\\site-packages (from requests<3,>=2->langchain) (2.2.2)\n",
      "Requirement already satisfied: certifi>=2017.4.17 in c:\\users\\sri krishna mishra\\anaconda3\\lib\\site-packages (from requests<3,>=2->langchain) (2025.1.31)\n",
      "Requirement already satisfied: greenlet!=0.4.17 in c:\\users\\sri krishna mishra\\anaconda3\\lib\\site-packages (from SQLAlchemy<3,>=1.4->langchain) (3.0.1)\n",
      "Requirement already satisfied: anyio in c:\\users\\sri krishna mishra\\anaconda3\\lib\\site-packages (from httpx<1,>=0.23.0->langsmith<0.4,>=0.1.17->langchain) (4.2.0)\n",
      "Requirement already satisfied: httpcore==1.* in c:\\users\\sri krishna mishra\\anaconda3\\lib\\site-packages (from httpx<1,>=0.23.0->langsmith<0.4,>=0.1.17->langchain) (1.0.2)\n",
      "Requirement already satisfied: h11<0.15,>=0.13 in c:\\users\\sri krishna mishra\\anaconda3\\lib\\site-packages (from httpcore==1.*->httpx<1,>=0.23.0->langsmith<0.4,>=0.1.17->langchain) (0.14.0)\n",
      "Requirement already satisfied: jsonpointer>=1.9 in c:\\users\\sri krishna mishra\\anaconda3\\lib\\site-packages (from jsonpatch<2.0,>=1.33->langchain-core<1.0.0,>=0.3.51->langchain) (2.1)\n",
      "Requirement already satisfied: sniffio>=1.1 in c:\\users\\sri krishna mishra\\anaconda3\\lib\\site-packages (from anyio->httpx<1,>=0.23.0->langsmith<0.4,>=0.1.17->langchain) (1.3.0)\n",
      "Requirement already satisfied: langchain-community in c:\\users\\sri krishna mishra\\anaconda3\\lib\\site-packages (0.3.21)\n",
      "Requirement already satisfied: langchain-core<1.0.0,>=0.3.51 in c:\\users\\sri krishna mishra\\anaconda3\\lib\\site-packages (from langchain-community) (0.3.51)\n",
      "Requirement already satisfied: langchain<1.0.0,>=0.3.23 in c:\\users\\sri krishna mishra\\anaconda3\\lib\\site-packages (from langchain-community) (0.3.23)\n",
      "Requirement already satisfied: SQLAlchemy<3,>=1.4 in c:\\users\\sri krishna mishra\\anaconda3\\lib\\site-packages (from langchain-community) (2.0.30)\n",
      "Requirement already satisfied: requests<3,>=2 in c:\\users\\sri krishna mishra\\anaconda3\\lib\\site-packages (from langchain-community) (2.32.2)\n",
      "Requirement already satisfied: PyYAML>=5.3 in c:\\users\\sri krishna mishra\\anaconda3\\lib\\site-packages (from langchain-community) (6.0.1)\n",
      "Requirement already satisfied: aiohttp<4.0.0,>=3.8.3 in c:\\users\\sri krishna mishra\\anaconda3\\lib\\site-packages (from langchain-community) (3.9.5)\n",
      "Requirement already satisfied: tenacity!=8.4.0,<10,>=8.1.0 in c:\\users\\sri krishna mishra\\anaconda3\\lib\\site-packages (from langchain-community) (8.2.2)\n",
      "Requirement already satisfied: dataclasses-json<0.7,>=0.5.7 in c:\\users\\sri krishna mishra\\anaconda3\\lib\\site-packages (from langchain-community) (0.6.7)\n",
      "Requirement already satisfied: pydantic-settings<3.0.0,>=2.4.0 in c:\\users\\sri krishna mishra\\anaconda3\\lib\\site-packages (from langchain-community) (2.8.1)\n",
      "Requirement already satisfied: langsmith<0.4,>=0.1.125 in c:\\users\\sri krishna mishra\\anaconda3\\lib\\site-packages (from langchain-community) (0.3.19)\n",
      "Requirement already satisfied: httpx-sse<1.0.0,>=0.4.0 in c:\\users\\sri krishna mishra\\anaconda3\\lib\\site-packages (from langchain-community) (0.4.0)\n",
      "Requirement already satisfied: numpy<3,>=1.26.2 in c:\\users\\sri krishna mishra\\anaconda3\\lib\\site-packages (from langchain-community) (1.26.4)\n",
      "Requirement already satisfied: aiosignal>=1.1.2 in c:\\users\\sri krishna mishra\\anaconda3\\lib\\site-packages (from aiohttp<4.0.0,>=3.8.3->langchain-community) (1.2.0)\n",
      "Requirement already satisfied: attrs>=17.3.0 in c:\\users\\sri krishna mishra\\anaconda3\\lib\\site-packages (from aiohttp<4.0.0,>=3.8.3->langchain-community) (23.1.0)\n",
      "Requirement already satisfied: frozenlist>=1.1.1 in c:\\users\\sri krishna mishra\\anaconda3\\lib\\site-packages (from aiohttp<4.0.0,>=3.8.3->langchain-community) (1.4.0)\n",
      "Requirement already satisfied: multidict<7.0,>=4.5 in c:\\users\\sri krishna mishra\\anaconda3\\lib\\site-packages (from aiohttp<4.0.0,>=3.8.3->langchain-community) (6.0.4)\n",
      "Requirement already satisfied: yarl<2.0,>=1.0 in c:\\users\\sri krishna mishra\\anaconda3\\lib\\site-packages (from aiohttp<4.0.0,>=3.8.3->langchain-community) (1.9.3)\n",
      "Requirement already satisfied: marshmallow<4.0.0,>=3.18.0 in c:\\users\\sri krishna mishra\\anaconda3\\lib\\site-packages (from dataclasses-json<0.7,>=0.5.7->langchain-community) (3.26.1)\n",
      "Requirement already satisfied: typing-inspect<1,>=0.4.0 in c:\\users\\sri krishna mishra\\anaconda3\\lib\\site-packages (from dataclasses-json<0.7,>=0.5.7->langchain-community) (0.9.0)\n",
      "Requirement already satisfied: langchain-text-splitters<1.0.0,>=0.3.8 in c:\\users\\sri krishna mishra\\anaconda3\\lib\\site-packages (from langchain<1.0.0,>=0.3.23->langchain-community) (0.3.8)\n",
      "Requirement already satisfied: pydantic<3.0.0,>=2.7.4 in c:\\users\\sri krishna mishra\\anaconda3\\lib\\site-packages (from langchain<1.0.0,>=0.3.23->langchain-community) (2.11.1)\n",
      "Requirement already satisfied: jsonpatch<2.0,>=1.33 in c:\\users\\sri krishna mishra\\anaconda3\\lib\\site-packages (from langchain-core<1.0.0,>=0.3.51->langchain-community) (1.33)\n",
      "Requirement already satisfied: packaging<25,>=23.2 in c:\\users\\sri krishna mishra\\anaconda3\\lib\\site-packages (from langchain-core<1.0.0,>=0.3.51->langchain-community) (23.2)\n",
      "Requirement already satisfied: typing-extensions>=4.7 in c:\\users\\sri krishna mishra\\anaconda3\\lib\\site-packages (from langchain-core<1.0.0,>=0.3.51->langchain-community) (4.13.0)\n",
      "Requirement already satisfied: httpx<1,>=0.23.0 in c:\\users\\sri krishna mishra\\anaconda3\\lib\\site-packages (from langsmith<0.4,>=0.1.125->langchain-community) (0.28.1)\n",
      "Requirement already satisfied: orjson<4.0.0,>=3.9.14 in c:\\users\\sri krishna mishra\\anaconda3\\lib\\site-packages (from langsmith<0.4,>=0.1.125->langchain-community) (3.10.16)\n",
      "Requirement already satisfied: requests-toolbelt<2.0.0,>=1.0.0 in c:\\users\\sri krishna mishra\\anaconda3\\lib\\site-packages (from langsmith<0.4,>=0.1.125->langchain-community) (1.0.0)\n",
      "Requirement already satisfied: zstandard<0.24.0,>=0.23.0 in c:\\users\\sri krishna mishra\\anaconda3\\lib\\site-packages (from langsmith<0.4,>=0.1.125->langchain-community) (0.23.0)\n",
      "Requirement already satisfied: python-dotenv>=0.21.0 in c:\\users\\sri krishna mishra\\anaconda3\\lib\\site-packages (from pydantic-settings<3.0.0,>=2.4.0->langchain-community) (0.21.0)\n",
      "Requirement already satisfied: charset-normalizer<4,>=2 in c:\\users\\sri krishna mishra\\anaconda3\\lib\\site-packages (from requests<3,>=2->langchain-community) (2.0.4)\n",
      "Requirement already satisfied: idna<4,>=2.5 in c:\\users\\sri krishna mishra\\anaconda3\\lib\\site-packages (from requests<3,>=2->langchain-community) (3.7)\n",
      "Requirement already satisfied: urllib3<3,>=1.21.1 in c:\\users\\sri krishna mishra\\anaconda3\\lib\\site-packages (from requests<3,>=2->langchain-community) (2.2.2)\n",
      "Requirement already satisfied: certifi>=2017.4.17 in c:\\users\\sri krishna mishra\\anaconda3\\lib\\site-packages (from requests<3,>=2->langchain-community) (2025.1.31)\n",
      "Requirement already satisfied: greenlet!=0.4.17 in c:\\users\\sri krishna mishra\\anaconda3\\lib\\site-packages (from SQLAlchemy<3,>=1.4->langchain-community) (3.0.1)\n",
      "Requirement already satisfied: anyio in c:\\users\\sri krishna mishra\\anaconda3\\lib\\site-packages (from httpx<1,>=0.23.0->langsmith<0.4,>=0.1.125->langchain-community) (4.2.0)\n",
      "Requirement already satisfied: httpcore==1.* in c:\\users\\sri krishna mishra\\anaconda3\\lib\\site-packages (from httpx<1,>=0.23.0->langsmith<0.4,>=0.1.125->langchain-community) (1.0.2)\n",
      "Requirement already satisfied: h11<0.15,>=0.13 in c:\\users\\sri krishna mishra\\anaconda3\\lib\\site-packages (from httpcore==1.*->httpx<1,>=0.23.0->langsmith<0.4,>=0.1.125->langchain-community) (0.14.0)\n",
      "Requirement already satisfied: jsonpointer>=1.9 in c:\\users\\sri krishna mishra\\anaconda3\\lib\\site-packages (from jsonpatch<2.0,>=1.33->langchain-core<1.0.0,>=0.3.51->langchain-community) (2.1)\n",
      "Requirement already satisfied: annotated-types>=0.6.0 in c:\\users\\sri krishna mishra\\anaconda3\\lib\\site-packages (from pydantic<3.0.0,>=2.7.4->langchain<1.0.0,>=0.3.23->langchain-community) (0.6.0)\n",
      "Requirement already satisfied: pydantic-core==2.33.0 in c:\\users\\sri krishna mishra\\anaconda3\\lib\\site-packages (from pydantic<3.0.0,>=2.7.4->langchain<1.0.0,>=0.3.23->langchain-community) (2.33.0)\n",
      "Requirement already satisfied: typing-inspection>=0.4.0 in c:\\users\\sri krishna mishra\\anaconda3\\lib\\site-packages (from pydantic<3.0.0,>=2.7.4->langchain<1.0.0,>=0.3.23->langchain-community) (0.4.0)\n",
      "Requirement already satisfied: mypy-extensions>=0.3.0 in c:\\users\\sri krishna mishra\\anaconda3\\lib\\site-packages (from typing-inspect<1,>=0.4.0->dataclasses-json<0.7,>=0.5.7->langchain-community) (1.0.0)\n",
      "Requirement already satisfied: sniffio>=1.1 in c:\\users\\sri krishna mishra\\anaconda3\\lib\\site-packages (from anyio->httpx<1,>=0.23.0->langsmith<0.4,>=0.1.125->langchain-community) (1.3.0)\n"
     ]
    }
   ],
   "source": [
    "!pip install langchain\n",
    "!pip install -U langchain-community"
   ]
  },
  {
   "cell_type": "code",
   "execution_count": 2,
   "metadata": {},
   "outputs": [],
   "source": [
    "from langchain.document_loaders import PyPDFLoader"
   ]
  },
  {
   "cell_type": "code",
   "execution_count": 3,
   "metadata": {},
   "outputs": [
    {
     "data": {
      "text/plain": [
       "'c:\\\\Users\\\\Sri krishna mishra\\\\OneDrive\\\\Desktop\\\\ai-dataset\\\\interview-question-app\\\\research'"
      ]
     },
     "execution_count": 3,
     "metadata": {},
     "output_type": "execute_result"
    }
   ],
   "source": [
    "%pwd"
   ]
  },
  {
   "cell_type": "code",
   "execution_count": 4,
   "metadata": {},
   "outputs": [
    {
     "name": "stdout",
     "output_type": "stream",
     "text": [
      "c:\\Users\\Sri krishna mishra\\OneDrive\\Desktop\\ai-dataset\\interview-question-app\n"
     ]
    }
   ],
   "source": [
    "%cd .."
   ]
  },
  {
   "cell_type": "code",
   "execution_count": 5,
   "metadata": {},
   "outputs": [
    {
     "data": {
      "text/plain": [
       "'c:\\\\Users\\\\Sri krishna mishra\\\\OneDrive\\\\Desktop\\\\ai-dataset\\\\interview-question-app'"
      ]
     },
     "execution_count": 5,
     "metadata": {},
     "output_type": "execute_result"
    }
   ],
   "source": [
    "%pwd"
   ]
  },
  {
   "cell_type": "code",
   "execution_count": 6,
   "metadata": {},
   "outputs": [
    {
     "name": "stdout",
     "output_type": "stream",
     "text": [
      "Requirement already satisfied: pypdf in c:\\users\\sri krishna mishra\\anaconda3\\lib\\site-packages (5.4.0)\n"
     ]
    }
   ],
   "source": [
    "!pip install pypdf\n",
    "file_path = \"data/Assignment1.pdf\"\n",
    "loader = PyPDFLoader(file_path)\n",
    "data = loader.load()"
   ]
  },
  {
   "cell_type": "code",
   "execution_count": 7,
   "metadata": {},
   "outputs": [
    {
     "data": {
      "text/plain": [
       "[Document(metadata={'producer': 'Skia/PDF m136 Google Docs Renderer', 'creator': 'PyPDF', 'creationdate': '', 'title': 'Assignment - AI / ML Internship', 'source': 'data/Assignment1.pdf', 'total_pages': 3, 'page': 0, 'page_label': '1'}, page_content='AI  /  ML  Internship  Assignment  \\nObjective Scenario Task  Instructions Step  1:  Understand  The  User  Context Step  2:  Build  Your  Prompt  System Step  3:  Deliverables Bonus  Challenge  (Optional) Evaluation  Criteria Estimated  Time  \\nObjective  \\nBuilding  an  AI  agent  system  to  guide  travelers  with  their  travel  plans/inquiries  and  finally  help  \\nthem\\n \\ngenerate\\n \\na\\n \\npersonalized\\n \\ntravel\\n \\nitinerary\\n \\nScenario  \\nYou  are  building  an  AI-powered  travel  planner  that  provides  users  with  highly  personalized  \\ntravel\\n \\nitineraries.\\n \\nYour\\n \\ntask\\n \\nis\\n \\nto\\n \\nprototype\\n \\nan\\n \\nAI-agentic\\n \\nsystem\\n \\nfor\\n \\nthis\\n \\nuse\\n \\ncase\\n \\nand\\n \\nwrite\\n \\nappropriate\\n \\nprompts\\n \\nthat\\n \\ncan\\n \\nsimulate\\n \\na\\n \\nconversation\\n \\nto\\n \\ngather\\n \\nuser\\n \\npreferences,\\n \\nuse\\n \\na\\n \\nweb-search\\n \\ntool\\n \\nto\\n \\ncurate\\n \\nand\\n \\nsuggest\\n \\nrelevant\\n \\nitems,\\n \\nand\\n \\nfinally\\n \\ngenerate\\n \\na\\n \\ndetailed\\n \\ntravel\\n \\nitinerary.\\n \\nHost\\n \\nyour\\n \\napplication\\n \\non\\n \\nany\\n \\nfree\\n \\nhosting\\n \\nprovider\\n \\nlike\\n \\nstreamlit,\\n \\ngradio,\\n \\netc\\n \\nfor\\n \\nuser\\n \\ntesting.\\n \\nTask  Instructions  \\nStep  1:  Understand  The  User  Context  \\n1.  Go  through  the  user  messages  for  inputs  such  as:  a.  Budget  b.  Trip  Duration  or  Travel  Dates  c.  Destination  &  Starting  Location  d.  Purpose  e.  Preferences  2.  Your  goal  is  to:  a.  Extract  key  details  from  the  user.  b.  Chain  prompts  effectively  to  refine  inputs  if  needed.  c.  Generate  a  coherent,  day-by-day  itinerary.'),\n",
       " Document(metadata={'producer': 'Skia/PDF m136 Google Docs Renderer', 'creator': 'PyPDF', 'creationdate': '', 'title': 'Assignment - AI / ML Internship', 'source': 'data/Assignment1.pdf', 'total_pages': 3, 'page': 1, 'page_label': '2'}, page_content='Step  2:  Build  Your  Prompt  System  \\n1.  Input  Refinement:  Create  a  system  prompt  to  gather  or  clarify  additional  details  from  \\nthe\\n \\nuser,\\n \\nsuch\\n \\nas:\\n a.  Dietary  preferences.  b.  Specific  interests  within  the  given  preferences.  c.  Walking  tolerance  or  mobility  concerns.  d.  Accommodation  preferences  (luxury,  budget,  central  location,  etc.).  2.  Activity  Suggestions:  Use  web-search  tools,  with  chained  prompts  if  required,  to:  a.  Generate  accurate  up-to-date  suggestions  for  top  attractions  or  activities  at  \\nthe\\n \\nprovided\\n \\ndestination\\n \\nlocations.\\n b.  Align  and  contextualize  these  suggestions  with  user  preferences  (e.g.,  \\n“Hidden\\n \\nGems”).\\n 3.  Output:  Finally  once  the  suggestions  are  approved  and  the  user  requests  a  detailed  \\nitinerary,\\n \\ndesign\\n \\nthe\\n \\nfinal\\n \\nprompt\\n \\nthat\\n \\ngenerates\\n \\na\\n \\ncomplete,\\n \\nwell-structured\\n \\nn-day\\n \\nitinerary,\\n \\nwith\\n \\na\\n \\nlogical\\n \\ngrouping\\n \\nand\\n \\ntiming\\n \\nof\\n \\nsightseeing\\n \\nand\\n \\nother\\n \\nactivities\\n \\nfor\\n \\neach\\n \\nday\\n \\nStep  3:  Deliverables  \\n●  Submit  the  final  set  of  prompts  you  used.  Label  each  as  System  Prompt,  User  \\nPrompt,\\n \\nand\\n \\nModel\\n \\nResponse.\\n ●  Submit  some  sample  inputs  and  outputs:   ○  Some  curated  suggestions  for  the  provided  user  inputs  ○  A  detailed  day-by-day  itinerary  for  the  provided  user  scenario.  ●  Document  your  process  in  a  short  paragraph  for  each  prompt:  ●  Host  the  application  on  any  free  hosting  service  such  as  streamlit,  gradio,  etc,  and  \\nsubmit\\n \\nthe\\n \\nlink\\n \\nto\\n \\ntest\\n \\nthe\\n \\nlive\\n \\napplication.\\n \\nBonus  Challenge  (Optional)  \\nImprove  the  itinerary  by  allowing  for  flexible  input  formats.  For  example:  \\n●  If  the  user  says,  “I  have  a  moderate  budget  and  I  want  a  mix  of  famous  and  offbeat  \\nplaces,”\\n \\nrefine\\n \\nit\\n \\nto\\n \\ngenerate\\n \\nprecise\\n \\nsuggestions.\\n ●  Handle  vague  or  incomplete  inputs  and  prompt  the  user  to  clarify  them.  \\nEvaluation  Criteria  \\n➢  Prompt  Design  ○  Are  the  prompts  clear,  specific,  and  structured  to  guide  the  model  effectively?  ○  Do  they  ensure  relevant  outputs?  ➢  Prompt  Chaining  ○  Are  you  using  multiple  prompts  strategically  to  refine  responses?  ○  Do  the  prompts  maintain  a  coherent  flow?  ➢  Personalization  ○  How  well  does  the  output  align  with  the  user’s  preferences?'),\n",
       " Document(metadata={'producer': 'Skia/PDF m136 Google Docs Renderer', 'creator': 'PyPDF', 'creationdate': '', 'title': 'Assignment - AI / ML Internship', 'source': 'data/Assignment1.pdf', 'total_pages': 3, 'page': 2, 'page_label': '3'}, page_content='○  Are  the  results  unique  and  well-suited  for  the  user  scenario?  ➢  Documentation  ○  Are  you  explaining  your  reasoning  and  thought  process  effectively?  \\nEstimated  Time  \\nYou  should  ideally  spend  not  more  than  the  suggested  time  on  each  activity  of  the  \\nassignment.\\n \\n●  Prompt  Design  &  Testing:  3-4  hours  ●  AI  agent  design:  3-4  hours  ●  Hosting:  1-2  hours  ●  Documentation:  <1  hours')]"
      ]
     },
     "execution_count": 7,
     "metadata": {},
     "output_type": "execute_result"
    }
   ],
   "source": [
    "data\n"
   ]
  },
  {
   "cell_type": "code",
   "execution_count": 8,
   "metadata": {},
   "outputs": [
    {
     "data": {
      "text/plain": [
       "3"
      ]
     },
     "execution_count": 8,
     "metadata": {},
     "output_type": "execute_result"
    }
   ],
   "source": [
    "len(data)"
   ]
  },
  {
   "cell_type": "code",
   "execution_count": 9,
   "metadata": {},
   "outputs": [],
   "source": [
    "question_gen = \"\"\n",
    "for page in data: \n",
    "    question_gen += page.page_content"
   ]
  },
  {
   "cell_type": "code",
   "execution_count": 10,
   "metadata": {},
   "outputs": [
    {
     "data": {
      "text/plain": [
       "'AI  /  ML  Internship  Assignment  \\nObjective Scenario Task  Instructions Step  1:  Understand  The  User  Context Step  2:  Build  Your  Prompt  System Step  3:  Deliverables Bonus  Challenge  (Optional) Evaluation  Criteria Estimated  Time  \\nObjective  \\nBuilding  an  AI  agent  system  to  guide  travelers  with  their  travel  plans/inquiries  and  finally  help  \\nthem\\n \\ngenerate\\n \\na\\n \\npersonalized\\n \\ntravel\\n \\nitinerary\\n \\nScenario  \\nYou  are  building  an  AI-powered  travel  planner  that  provides  users  with  highly  personalized  \\ntravel\\n \\nitineraries.\\n \\nYour\\n \\ntask\\n \\nis\\n \\nto\\n \\nprototype\\n \\nan\\n \\nAI-agentic\\n \\nsystem\\n \\nfor\\n \\nthis\\n \\nuse\\n \\ncase\\n \\nand\\n \\nwrite\\n \\nappropriate\\n \\nprompts\\n \\nthat\\n \\ncan\\n \\nsimulate\\n \\na\\n \\nconversation\\n \\nto\\n \\ngather\\n \\nuser\\n \\npreferences,\\n \\nuse\\n \\na\\n \\nweb-search\\n \\ntool\\n \\nto\\n \\ncurate\\n \\nand\\n \\nsuggest\\n \\nrelevant\\n \\nitems,\\n \\nand\\n \\nfinally\\n \\ngenerate\\n \\na\\n \\ndetailed\\n \\ntravel\\n \\nitinerary.\\n \\nHost\\n \\nyour\\n \\napplication\\n \\non\\n \\nany\\n \\nfree\\n \\nhosting\\n \\nprovider\\n \\nlike\\n \\nstreamlit,\\n \\ngradio,\\n \\netc\\n \\nfor\\n \\nuser\\n \\ntesting.\\n \\nTask  Instructions  \\nStep  1:  Understand  The  User  Context  \\n1.  Go  through  the  user  messages  for  inputs  such  as:  a.  Budget  b.  Trip  Duration  or  Travel  Dates  c.  Destination  &  Starting  Location  d.  Purpose  e.  Preferences  2.  Your  goal  is  to:  a.  Extract  key  details  from  the  user.  b.  Chain  prompts  effectively  to  refine  inputs  if  needed.  c.  Generate  a  coherent,  day-by-day  itinerary.Step  2:  Build  Your  Prompt  System  \\n1.  Input  Refinement:  Create  a  system  prompt  to  gather  or  clarify  additional  details  from  \\nthe\\n \\nuser,\\n \\nsuch\\n \\nas:\\n a.  Dietary  preferences.  b.  Specific  interests  within  the  given  preferences.  c.  Walking  tolerance  or  mobility  concerns.  d.  Accommodation  preferences  (luxury,  budget,  central  location,  etc.).  2.  Activity  Suggestions:  Use  web-search  tools,  with  chained  prompts  if  required,  to:  a.  Generate  accurate  up-to-date  suggestions  for  top  attractions  or  activities  at  \\nthe\\n \\nprovided\\n \\ndestination\\n \\nlocations.\\n b.  Align  and  contextualize  these  suggestions  with  user  preferences  (e.g.,  \\n“Hidden\\n \\nGems”).\\n 3.  Output:  Finally  once  the  suggestions  are  approved  and  the  user  requests  a  detailed  \\nitinerary,\\n \\ndesign\\n \\nthe\\n \\nfinal\\n \\nprompt\\n \\nthat\\n \\ngenerates\\n \\na\\n \\ncomplete,\\n \\nwell-structured\\n \\nn-day\\n \\nitinerary,\\n \\nwith\\n \\na\\n \\nlogical\\n \\ngrouping\\n \\nand\\n \\ntiming\\n \\nof\\n \\nsightseeing\\n \\nand\\n \\nother\\n \\nactivities\\n \\nfor\\n \\neach\\n \\nday\\n \\nStep  3:  Deliverables  \\n●  Submit  the  final  set  of  prompts  you  used.  Label  each  as  System  Prompt,  User  \\nPrompt,\\n \\nand\\n \\nModel\\n \\nResponse.\\n ●  Submit  some  sample  inputs  and  outputs:   ○  Some  curated  suggestions  for  the  provided  user  inputs  ○  A  detailed  day-by-day  itinerary  for  the  provided  user  scenario.  ●  Document  your  process  in  a  short  paragraph  for  each  prompt:  ●  Host  the  application  on  any  free  hosting  service  such  as  streamlit,  gradio,  etc,  and  \\nsubmit\\n \\nthe\\n \\nlink\\n \\nto\\n \\ntest\\n \\nthe\\n \\nlive\\n \\napplication.\\n \\nBonus  Challenge  (Optional)  \\nImprove  the  itinerary  by  allowing  for  flexible  input  formats.  For  example:  \\n●  If  the  user  says,  “I  have  a  moderate  budget  and  I  want  a  mix  of  famous  and  offbeat  \\nplaces,”\\n \\nrefine\\n \\nit\\n \\nto\\n \\ngenerate\\n \\nprecise\\n \\nsuggestions.\\n ●  Handle  vague  or  incomplete  inputs  and  prompt  the  user  to  clarify  them.  \\nEvaluation  Criteria  \\n➢  Prompt  Design  ○  Are  the  prompts  clear,  specific,  and  structured  to  guide  the  model  effectively?  ○  Do  they  ensure  relevant  outputs?  ➢  Prompt  Chaining  ○  Are  you  using  multiple  prompts  strategically  to  refine  responses?  ○  Do  the  prompts  maintain  a  coherent  flow?  ➢  Personalization  ○  How  well  does  the  output  align  with  the  user’s  preferences?○  Are  the  results  unique  and  well-suited  for  the  user  scenario?  ➢  Documentation  ○  Are  you  explaining  your  reasoning  and  thought  process  effectively?  \\nEstimated  Time  \\nYou  should  ideally  spend  not  more  than  the  suggested  time  on  each  activity  of  the  \\nassignment.\\n \\n●  Prompt  Design  &  Testing:  3-4  hours  ●  AI  agent  design:  3-4  hours  ●  Hosting:  1-2  hours  ●  Documentation:  <1  hours'"
      ]
     },
     "execution_count": 10,
     "metadata": {},
     "output_type": "execute_result"
    }
   ],
   "source": [
    "question_gen"
   ]
  },
  {
   "cell_type": "code",
   "execution_count": 11,
   "metadata": {},
   "outputs": [],
   "source": [
    "from langchain.text_splitter import TokenTextSplitter"
   ]
  },
  {
   "cell_type": "code",
   "execution_count": 12,
   "metadata": {},
   "outputs": [
    {
     "name": "stdout",
     "output_type": "stream",
     "text": [
      "Requirement already satisfied: tiktoken in c:\\users\\sri krishna mishra\\anaconda3\\lib\\site-packages (0.9.0)Note: you may need to restart the kernel to use updated packages.\n",
      "\n",
      "Requirement already satisfied: regex>=2022.1.18 in c:\\users\\sri krishna mishra\\anaconda3\\lib\\site-packages (from tiktoken) (2023.10.3)\n",
      "Requirement already satisfied: requests>=2.26.0 in c:\\users\\sri krishna mishra\\anaconda3\\lib\\site-packages (from tiktoken) (2.32.2)\n",
      "Requirement already satisfied: charset-normalizer<4,>=2 in c:\\users\\sri krishna mishra\\anaconda3\\lib\\site-packages (from requests>=2.26.0->tiktoken) (2.0.4)\n",
      "Requirement already satisfied: idna<4,>=2.5 in c:\\users\\sri krishna mishra\\anaconda3\\lib\\site-packages (from requests>=2.26.0->tiktoken) (3.7)\n",
      "Requirement already satisfied: urllib3<3,>=1.21.1 in c:\\users\\sri krishna mishra\\anaconda3\\lib\\site-packages (from requests>=2.26.0->tiktoken) (2.2.2)\n",
      "Requirement already satisfied: certifi>=2017.4.17 in c:\\users\\sri krishna mishra\\anaconda3\\lib\\site-packages (from requests>=2.26.0->tiktoken) (2025.1.31)\n"
     ]
    }
   ],
   "source": [
    "%pip install tiktoken\n",
    "from langchain.text_splitter import TokenTextSplitter\n",
    "\n",
    "splitter_ques_gen = TokenTextSplitter(\n",
    "    model_name=\"gpt-3.5-turbo\",\n",
    "    chunk_size=10000, \n",
    "    chunk_overlap=200\n",
    ")\n"
   ]
  },
  {
   "cell_type": "code",
   "execution_count": 13,
   "metadata": {},
   "outputs": [],
   "source": [
    "chunk_ques_gen = splitter_ques_gen.split_text(question_gen)"
   ]
  },
  {
   "cell_type": "code",
   "execution_count": 14,
   "metadata": {},
   "outputs": [
    {
     "data": {
      "text/plain": [
       "['AI  /  ML  Internship  Assignment  \\nObjective Scenario Task  Instructions Step  1:  Understand  The  User  Context Step  2:  Build  Your  Prompt  System Step  3:  Deliverables Bonus  Challenge  (Optional) Evaluation  Criteria Estimated  Time  \\nObjective  \\nBuilding  an  AI  agent  system  to  guide  travelers  with  their  travel  plans/inquiries  and  finally  help  \\nthem\\n \\ngenerate\\n \\na\\n \\npersonalized\\n \\ntravel\\n \\nitinerary\\n \\nScenario  \\nYou  are  building  an  AI-powered  travel  planner  that  provides  users  with  highly  personalized  \\ntravel\\n \\nitineraries.\\n \\nYour\\n \\ntask\\n \\nis\\n \\nto\\n \\nprototype\\n \\nan\\n \\nAI-agentic\\n \\nsystem\\n \\nfor\\n \\nthis\\n \\nuse\\n \\ncase\\n \\nand\\n \\nwrite\\n \\nappropriate\\n \\nprompts\\n \\nthat\\n \\ncan\\n \\nsimulate\\n \\na\\n \\nconversation\\n \\nto\\n \\ngather\\n \\nuser\\n \\npreferences,\\n \\nuse\\n \\na\\n \\nweb-search\\n \\ntool\\n \\nto\\n \\ncurate\\n \\nand\\n \\nsuggest\\n \\nrelevant\\n \\nitems,\\n \\nand\\n \\nfinally\\n \\ngenerate\\n \\na\\n \\ndetailed\\n \\ntravel\\n \\nitinerary.\\n \\nHost\\n \\nyour\\n \\napplication\\n \\non\\n \\nany\\n \\nfree\\n \\nhosting\\n \\nprovider\\n \\nlike\\n \\nstreamlit,\\n \\ngradio,\\n \\netc\\n \\nfor\\n \\nuser\\n \\ntesting.\\n \\nTask  Instructions  \\nStep  1:  Understand  The  User  Context  \\n1.  Go  through  the  user  messages  for  inputs  such  as:  a.  Budget  b.  Trip  Duration  or  Travel  Dates  c.  Destination  &  Starting  Location  d.  Purpose  e.  Preferences  2.  Your  goal  is  to:  a.  Extract  key  details  from  the  user.  b.  Chain  prompts  effectively  to  refine  inputs  if  needed.  c.  Generate  a  coherent,  day-by-day  itinerary.Step  2:  Build  Your  Prompt  System  \\n1.  Input  Refinement:  Create  a  system  prompt  to  gather  or  clarify  additional  details  from  \\nthe\\n \\nuser,\\n \\nsuch\\n \\nas:\\n a.  Dietary  preferences.  b.  Specific  interests  within  the  given  preferences.  c.  Walking  tolerance  or  mobility  concerns.  d.  Accommodation  preferences  (luxury,  budget,  central  location,  etc.).  2.  Activity  Suggestions:  Use  web-search  tools,  with  chained  prompts  if  required,  to:  a.  Generate  accurate  up-to-date  suggestions  for  top  attractions  or  activities  at  \\nthe\\n \\nprovided\\n \\ndestination\\n \\nlocations.\\n b.  Align  and  contextualize  these  suggestions  with  user  preferences  (e.g.,  \\n“Hidden\\n \\nGems”).\\n 3.  Output:  Finally  once  the  suggestions  are  approved  and  the  user  requests  a  detailed  \\nitinerary,\\n \\ndesign\\n \\nthe\\n \\nfinal\\n \\nprompt\\n \\nthat\\n \\ngenerates\\n \\na\\n \\ncomplete,\\n \\nwell-structured\\n \\nn-day\\n \\nitinerary,\\n \\nwith\\n \\na\\n \\nlogical\\n \\ngrouping\\n \\nand\\n \\ntiming\\n \\nof\\n \\nsightseeing\\n \\nand\\n \\nother\\n \\nactivities\\n \\nfor\\n \\neach\\n \\nday\\n \\nStep  3:  Deliverables  \\n●  Submit  the  final  set  of  prompts  you  used.  Label  each  as  System  Prompt,  User  \\nPrompt,\\n \\nand\\n \\nModel\\n \\nResponse.\\n ●  Submit  some  sample  inputs  and  outputs:   ○  Some  curated  suggestions  for  the  provided  user  inputs  ○  A  detailed  day-by-day  itinerary  for  the  provided  user  scenario.  ●  Document  your  process  in  a  short  paragraph  for  each  prompt:  ●  Host  the  application  on  any  free  hosting  service  such  as  streamlit,  gradio,  etc,  and  \\nsubmit\\n \\nthe\\n \\nlink\\n \\nto\\n \\ntest\\n \\nthe\\n \\nlive\\n \\napplication.\\n \\nBonus  Challenge  (Optional)  \\nImprove  the  itinerary  by  allowing  for  flexible  input  formats.  For  example:  \\n●  If  the  user  says,  “I  have  a  moderate  budget  and  I  want  a  mix  of  famous  and  offbeat  \\nplaces,”\\n \\nrefine\\n \\nit\\n \\nto\\n \\ngenerate\\n \\nprecise\\n \\nsuggestions.\\n ●  Handle  vague  or  incomplete  inputs  and  prompt  the  user  to  clarify  them.  \\nEvaluation  Criteria  \\n➢  Prompt  Design  ○  Are  the  prompts  clear,  specific,  and  structured  to  guide  the  model  effectively?  ○  Do  they  ensure  relevant  outputs?  ➢  Prompt  Chaining  ○  Are  you  using  multiple  prompts  strategically  to  refine  responses?  ○  Do  the  prompts  maintain  a  coherent  flow?  ➢  Personalization  ○  How  well  does  the  output  align  with  the  user’s  preferences?○  Are  the  results  unique  and  well-suited  for  the  user  scenario?  ➢  Documentation  ○  Are  you  explaining  your  reasoning  and  thought  process  effectively?  \\nEstimated  Time  \\nYou  should  ideally  spend  not  more  than  the  suggested  time  on  each  activity  of  the  \\nassignment.\\n \\n●  Prompt  Design  &  Testing:  3-4  hours  ●  AI  agent  design:  3-4  hours  ●  Hosting:  1-2  hours  ●  Documentation:  <1  hours']"
      ]
     },
     "execution_count": 14,
     "metadata": {},
     "output_type": "execute_result"
    }
   ],
   "source": [
    "chunk_ques_gen"
   ]
  },
  {
   "cell_type": "code",
   "execution_count": 15,
   "metadata": {},
   "outputs": [
    {
     "data": {
      "text/plain": [
       "1"
      ]
     },
     "execution_count": 15,
     "metadata": {},
     "output_type": "execute_result"
    }
   ],
   "source": [
    "len(chunk_ques_gen)"
   ]
  },
  {
   "cell_type": "code",
   "execution_count": 16,
   "metadata": {},
   "outputs": [
    {
     "data": {
      "text/plain": [
       "str"
      ]
     },
     "execution_count": 16,
     "metadata": {},
     "output_type": "execute_result"
    }
   ],
   "source": [
    "type(chunk_ques_gen[0])"
   ]
  },
  {
   "cell_type": "code",
   "execution_count": 17,
   "metadata": {},
   "outputs": [],
   "source": [
    "from langchain.docstore.document import Document"
   ]
  },
  {
   "cell_type": "code",
   "execution_count": 18,
   "metadata": {},
   "outputs": [],
   "source": [
    "document_ques_gen = [Document(page_content= t) for t in chunk_ques_gen]"
   ]
  },
  {
   "cell_type": "code",
   "execution_count": 19,
   "metadata": {},
   "outputs": [
    {
     "data": {
      "text/plain": [
       "langchain_core.documents.base.Document"
      ]
     },
     "execution_count": 19,
     "metadata": {},
     "output_type": "execute_result"
    }
   ],
   "source": [
    "type(document_ques_gen[0])"
   ]
  },
  {
   "cell_type": "code",
   "execution_count": 23,
   "metadata": {},
   "outputs": [
    {
     "name": "stdout",
     "output_type": "stream",
     "text": [
      "Requirement already satisfied: tiktoken in c:\\users\\sri krishna mishra\\anaconda3\\lib\\site-packages (0.9.0)Note: you may need to restart the kernel to use updated packages.\n",
      "\n",
      "Requirement already satisfied: regex>=2022.1.18 in c:\\users\\sri krishna mishra\\anaconda3\\lib\\site-packages (from tiktoken) (2023.10.3)\n",
      "Requirement already satisfied: requests>=2.26.0 in c:\\users\\sri krishna mishra\\anaconda3\\lib\\site-packages (from tiktoken) (2.32.2)\n",
      "Requirement already satisfied: charset-normalizer<4,>=2 in c:\\users\\sri krishna mishra\\anaconda3\\lib\\site-packages (from requests>=2.26.0->tiktoken) (2.0.4)\n",
      "Requirement already satisfied: idna<4,>=2.5 in c:\\users\\sri krishna mishra\\anaconda3\\lib\\site-packages (from requests>=2.26.0->tiktoken) (3.7)\n",
      "Requirement already satisfied: urllib3<3,>=1.21.1 in c:\\users\\sri krishna mishra\\anaconda3\\lib\\site-packages (from requests>=2.26.0->tiktoken) (2.2.2)\n",
      "Requirement already satisfied: certifi>=2017.4.17 in c:\\users\\sri krishna mishra\\anaconda3\\lib\\site-packages (from requests>=2.26.0->tiktoken) (2025.1.31)\n"
     ]
    }
   ],
   "source": [
    "%pip install tiktoken\n",
    "from langchain.text_splitter import TokenTextSplitter\n",
    "\n",
    "splitter_ques_gen = TokenTextSplitter(\n",
    "    model_name=\"gpt-3.5-turbo\",\n",
    "    chunk_size=1000, \n",
    "    chunk_overlap=200\n",
    ")\n"
   ]
  },
  {
   "cell_type": "code",
   "execution_count": 24,
   "metadata": {},
   "outputs": [],
   "source": [
    "document_answer_gen = splitter_ques_gen.split_documents(\n",
    "    document_ques_gen\n",
    ")"
   ]
  },
  {
   "cell_type": "code",
   "execution_count": 25,
   "metadata": {},
   "outputs": [
    {
     "data": {
      "text/plain": [
       "[Document(metadata={}, page_content='AI  /  ML  Internship  Assignment  \\nObjective Scenario Task  Instructions Step  1:  Understand  The  User  Context Step  2:  Build  Your  Prompt  System Step  3:  Deliverables Bonus  Challenge  (Optional) Evaluation  Criteria Estimated  Time  \\nObjective  \\nBuilding  an  AI  agent  system  to  guide  travelers  with  their  travel  plans/inquiries  and  finally  help  \\nthem\\n \\ngenerate\\n \\na\\n \\npersonalized\\n \\ntravel\\n \\nitinerary\\n \\nScenario  \\nYou  are  building  an  AI-powered  travel  planner  that  provides  users  with  highly  personalized  \\ntravel\\n \\nitineraries.\\n \\nYour\\n \\ntask\\n \\nis\\n \\nto\\n \\nprototype\\n \\nan\\n \\nAI-agentic\\n \\nsystem\\n \\nfor\\n \\nthis\\n \\nuse\\n \\ncase\\n \\nand\\n \\nwrite\\n \\nappropriate\\n \\nprompts\\n \\nthat\\n \\ncan\\n \\nsimulate\\n \\na\\n \\nconversation\\n \\nto\\n \\ngather\\n \\nuser\\n \\npreferences,\\n \\nuse\\n \\na\\n \\nweb-search\\n \\ntool\\n \\nto\\n \\ncurate\\n \\nand\\n \\nsuggest\\n \\nrelevant\\n \\nitems,\\n \\nand\\n \\nfinally\\n \\ngenerate\\n \\na\\n \\ndetailed\\n \\ntravel\\n \\nitinerary.\\n \\nHost\\n \\nyour\\n \\napplication\\n \\non\\n \\nany\\n \\nfree\\n \\nhosting\\n \\nprovider\\n \\nlike\\n \\nstreamlit,\\n \\ngradio,\\n \\netc\\n \\nfor\\n \\nuser\\n \\ntesting.\\n \\nTask  Instructions  \\nStep  1:  Understand  The  User  Context  \\n1.  Go  through  the  user  messages  for  inputs  such  as:  a.  Budget  b.  Trip  Duration  or  Travel  Dates  c.  Destination  &  Starting  Location  d.  Purpose  e.  Preferences  2.  Your  goal  is  to:  a.  Extract  key  details  from  the  user.  b.  Chain  prompts  effectively  to  refine  inputs  if  needed.  c.  Generate  a  coherent,  day-by-day  itinerary.Step  2:  Build  Your  Prompt  System  \\n1.  Input  Refinement:  Create  a  system  prompt  to  gather  or  clarify  additional  details  from  \\nthe\\n \\nuser,\\n \\nsuch\\n \\nas:\\n a.  Dietary  preferences.  b.  Specific  interests  within  the  given  preferences.  c.  Walking  tolerance  or  mobility  concerns.  d.  Accommodation  preferences  (luxury,  budget,  central  location,  etc.).  2.  Activity  Suggestions:  Use  web-search  tools,  with  chained  prompts  if  required,  to:  a.  Generate  accurate  up-to-date  suggestions  for  top  attractions  or  activities  at  \\nthe\\n \\nprovided\\n \\ndestination\\n \\nlocations.\\n b.  Align  and  contextualize  these  suggestions  with  user  preferences  (e.g.,  \\n“Hidden\\n \\nGems”).\\n 3.  Output:  Finally  once  the  suggestions  are  approved  and  the  user  requests  a  detailed  \\nitinerary,\\n \\ndesign\\n \\nthe\\n \\nfinal\\n \\nprompt\\n \\nthat\\n \\ngenerates\\n \\na\\n \\ncomplete,\\n \\nwell-structured\\n \\nn-day\\n \\nitinerary,\\n \\nwith\\n \\na\\n \\nlogical\\n \\ngrouping\\n \\nand\\n \\ntiming\\n \\nof\\n \\nsightseeing\\n \\nand\\n \\nother\\n \\nactivities\\n \\nfor\\n \\neach\\n \\nday\\n \\nStep  3:  Deliverables  \\n●  Submit  the  final  set  of  prompts  you  used.  Label  each  as  System  Prompt,  User  \\nPrompt,\\n \\nand\\n \\nModel\\n \\nResponse.\\n ●  Submit  some  sample  inputs  and  outputs:   ○  Some  curated  suggestions  for  the  provided  user  inputs  ○  A  detailed  day-by-day  itinerary  for  the  provided  user  scenario.  ●  Document  your  process  in  a  short  paragraph  for  each  prompt:  ●  Host  the  application  on  any  free  hosting  service  such  as  streamlit,  gradio,  etc,  and  \\nsubmit\\n \\nthe\\n \\nlink\\n \\nto\\n \\ntest\\n \\nthe\\n \\nlive\\n \\napplication.\\n \\nBonus  Challenge  (Optional)  \\nImprove  the  itinerary  by  allowing  for  flexible  input  formats.  For  example:  \\n●  If  the  user  says,  “I  have  a  moderate  budget  and  I  want  a  mix  of  famous  and  offbeat  \\nplaces,”\\n \\nrefine\\n \\nit\\n \\nto\\n \\ngenerate\\n \\nprecise'),\n",
       " Document(metadata={}, page_content=' suggestions  for  the  provided  user  inputs  ○  A  detailed  day-by-day  itinerary  for  the  provided  user  scenario.  ●  Document  your  process  in  a  short  paragraph  for  each  prompt:  ●  Host  the  application  on  any  free  hosting  service  such  as  streamlit,  gradio,  etc,  and  \\nsubmit\\n \\nthe\\n \\nlink\\n \\nto\\n \\ntest\\n \\nthe\\n \\nlive\\n \\napplication.\\n \\nBonus  Challenge  (Optional)  \\nImprove  the  itinerary  by  allowing  for  flexible  input  formats.  For  example:  \\n●  If  the  user  says,  “I  have  a  moderate  budget  and  I  want  a  mix  of  famous  and  offbeat  \\nplaces,”\\n \\nrefine\\n \\nit\\n \\nto\\n \\ngenerate\\n \\nprecise\\n \\nsuggestions.\\n ●  Handle  vague  or  incomplete  inputs  and  prompt  the  user  to  clarify  them.  \\nEvaluation  Criteria  \\n➢  Prompt  Design  ○  Are  the  prompts  clear,  specific,  and  structured  to  guide  the  model  effectively?  ○  Do  they  ensure  relevant  outputs?  ➢  Prompt  Chaining  ○  Are  you  using  multiple  prompts  strategically  to  refine  responses?  ○  Do  the  prompts  maintain  a  coherent  flow?  ➢  Personalization  ○  How  well  does  the  output  align  with  the  user’s  preferences?○  Are  the  results  unique  and  well-suited  for  the  user  scenario?  ➢  Documentation  ○  Are  you  explaining  your  reasoning  and  thought  process  effectively?  \\nEstimated  Time  \\nYou  should  ideally  spend  not  more  than  the  suggested  time  on  each  activity  of  the  \\nassignment.\\n \\n●  Prompt  Design  &  Testing:  3-4  hours  ●  AI  agent  design:  3-4  hours  ●  Hosting:  1-2  hours  ●  Documentation:  <1  hours')]"
      ]
     },
     "execution_count": 25,
     "metadata": {},
     "output_type": "execute_result"
    }
   ],
   "source": [
    "document_answer_gen"
   ]
  },
  {
   "cell_type": "code",
   "execution_count": 26,
   "metadata": {},
   "outputs": [
    {
     "data": {
      "text/plain": [
       "2"
      ]
     },
     "execution_count": 26,
     "metadata": {},
     "output_type": "execute_result"
    }
   ],
   "source": [
    "len(document_answer_gen)"
   ]
  },
  {
   "cell_type": "code",
   "execution_count": 27,
   "metadata": {},
   "outputs": [
    {
     "name": "stdout",
     "output_type": "stream",
     "text": [
      "Requirement already satisfied: langchain-google-genai in c:\\users\\sri krishna mishra\\anaconda3\\lib\\site-packages (2.0.10)\n",
      "Requirement already satisfied: google-generativeai in c:\\users\\sri krishna mishra\\anaconda3\\lib\\site-packages (0.8.4)\n",
      "Requirement already satisfied: filetype<2.0.0,>=1.2.0 in c:\\users\\sri krishna mishra\\anaconda3\\lib\\site-packages (from langchain-google-genai) (1.2.0)\n",
      "Requirement already satisfied: langchain-core<0.4.0,>=0.3.37 in c:\\users\\sri krishna mishra\\anaconda3\\lib\\site-packages (from langchain-google-genai) (0.3.51)\n",
      "Requirement already satisfied: pydantic<3,>=2 in c:\\users\\sri krishna mishra\\anaconda3\\lib\\site-packages (from langchain-google-genai) (2.11.1)\n",
      "Requirement already satisfied: google-ai-generativelanguage==0.6.15 in c:\\users\\sri krishna mishra\\anaconda3\\lib\\site-packages (from google-generativeai) (0.6.15)\n",
      "Requirement already satisfied: google-api-core in c:\\users\\sri krishna mishra\\anaconda3\\lib\\site-packages (from google-generativeai) (2.24.2)\n",
      "Requirement already satisfied: google-api-python-client in c:\\users\\sri krishna mishra\\anaconda3\\lib\\site-packages (from google-generativeai) (2.166.0)\n",
      "Requirement already satisfied: google-auth>=2.15.0 in c:\\users\\sri krishna mishra\\anaconda3\\lib\\site-packages (from google-generativeai) (2.38.0)\n",
      "Requirement already satisfied: protobuf in c:\\users\\sri krishna mishra\\anaconda3\\lib\\site-packages (from google-generativeai) (5.29.4)\n",
      "Requirement already satisfied: tqdm in c:\\users\\sri krishna mishra\\anaconda3\\lib\\site-packages (from google-generativeai) (4.66.4)\n",
      "Requirement already satisfied: typing-extensions in c:\\users\\sri krishna mishra\\anaconda3\\lib\\site-packages (from google-generativeai) (4.13.0)\n",
      "Requirement already satisfied: proto-plus<2.0.0dev,>=1.22.3 in c:\\users\\sri krishna mishra\\anaconda3\\lib\\site-packages (from google-ai-generativelanguage==0.6.15->google-generativeai) (1.26.1)\n",
      "Requirement already satisfied: googleapis-common-protos<2.0.0,>=1.56.2 in c:\\users\\sri krishna mishra\\anaconda3\\lib\\site-packages (from google-api-core->google-generativeai) (1.69.2)\n",
      "Requirement already satisfied: requests<3.0.0,>=2.18.0 in c:\\users\\sri krishna mishra\\anaconda3\\lib\\site-packages (from google-api-core->google-generativeai) (2.32.2)\n",
      "Requirement already satisfied: cachetools<6.0,>=2.0.0 in c:\\users\\sri krishna mishra\\anaconda3\\lib\\site-packages (from google-auth>=2.15.0->google-generativeai) (5.3.3)\n",
      "Requirement already satisfied: pyasn1-modules>=0.2.1 in c:\\users\\sri krishna mishra\\anaconda3\\lib\\site-packages (from google-auth>=2.15.0->google-generativeai) (0.2.8)\n",
      "Requirement already satisfied: rsa<5,>=3.1.4 in c:\\users\\sri krishna mishra\\anaconda3\\lib\\site-packages (from google-auth>=2.15.0->google-generativeai) (4.9)\n",
      "Requirement already satisfied: langsmith<0.4,>=0.1.125 in c:\\users\\sri krishna mishra\\anaconda3\\lib\\site-packages (from langchain-core<0.4.0,>=0.3.37->langchain-google-genai) (0.3.19)\n",
      "Requirement already satisfied: tenacity!=8.4.0,<10.0.0,>=8.1.0 in c:\\users\\sri krishna mishra\\anaconda3\\lib\\site-packages (from langchain-core<0.4.0,>=0.3.37->langchain-google-genai) (8.2.2)\n",
      "Requirement already satisfied: jsonpatch<2.0,>=1.33 in c:\\users\\sri krishna mishra\\anaconda3\\lib\\site-packages (from langchain-core<0.4.0,>=0.3.37->langchain-google-genai) (1.33)\n",
      "Requirement already satisfied: PyYAML>=5.3 in c:\\users\\sri krishna mishra\\anaconda3\\lib\\site-packages (from langchain-core<0.4.0,>=0.3.37->langchain-google-genai) (6.0.1)\n",
      "Requirement already satisfied: packaging<25,>=23.2 in c:\\users\\sri krishna mishra\\anaconda3\\lib\\site-packages (from langchain-core<0.4.0,>=0.3.37->langchain-google-genai) (23.2)\n",
      "Requirement already satisfied: annotated-types>=0.6.0 in c:\\users\\sri krishna mishra\\anaconda3\\lib\\site-packages (from pydantic<3,>=2->langchain-google-genai) (0.6.0)\n",
      "Requirement already satisfied: pydantic-core==2.33.0 in c:\\users\\sri krishna mishra\\anaconda3\\lib\\site-packages (from pydantic<3,>=2->langchain-google-genai) (2.33.0)\n",
      "Requirement already satisfied: typing-inspection>=0.4.0 in c:\\users\\sri krishna mishra\\anaconda3\\lib\\site-packages (from pydantic<3,>=2->langchain-google-genai) (0.4.0)\n",
      "Requirement already satisfied: httplib2<1.0.0,>=0.19.0 in c:\\users\\sri krishna mishra\\anaconda3\\lib\\site-packages (from google-api-python-client->google-generativeai) (0.22.0)\n",
      "Requirement already satisfied: google-auth-httplib2<1.0.0,>=0.2.0 in c:\\users\\sri krishna mishra\\anaconda3\\lib\\site-packages (from google-api-python-client->google-generativeai) (0.2.0)\n",
      "Requirement already satisfied: uritemplate<5,>=3.0.1 in c:\\users\\sri krishna mishra\\anaconda3\\lib\\site-packages (from google-api-python-client->google-generativeai) (4.1.1)\n",
      "Requirement already satisfied: colorama in c:\\users\\sri krishna mishra\\anaconda3\\lib\\site-packages (from tqdm->google-generativeai) (0.4.6)\n",
      "Requirement already satisfied: grpcio<2.0dev,>=1.33.2 in c:\\users\\sri krishna mishra\\anaconda3\\lib\\site-packages (from google-api-core[grpc]!=2.0.*,!=2.1.*,!=2.10.*,!=2.2.*,!=2.3.*,!=2.4.*,!=2.5.*,!=2.6.*,!=2.7.*,!=2.8.*,!=2.9.*,<3.0.0dev,>=1.34.1->google-ai-generativelanguage==0.6.15->google-generativeai) (1.71.0)\n",
      "Requirement already satisfied: grpcio-status<2.0.dev0,>=1.33.2 in c:\\users\\sri krishna mishra\\anaconda3\\lib\\site-packages (from google-api-core[grpc]!=2.0.*,!=2.1.*,!=2.10.*,!=2.2.*,!=2.3.*,!=2.4.*,!=2.5.*,!=2.6.*,!=2.7.*,!=2.8.*,!=2.9.*,<3.0.0dev,>=1.34.1->google-ai-generativelanguage==0.6.15->google-generativeai) (1.71.0)\n",
      "Requirement already satisfied: pyparsing!=3.0.0,!=3.0.1,!=3.0.2,!=3.0.3,<4,>=2.4.2 in c:\\users\\sri krishna mishra\\anaconda3\\lib\\site-packages (from httplib2<1.0.0,>=0.19.0->google-api-python-client->google-generativeai) (3.0.9)\n",
      "Requirement already satisfied: jsonpointer>=1.9 in c:\\users\\sri krishna mishra\\anaconda3\\lib\\site-packages (from jsonpatch<2.0,>=1.33->langchain-core<0.4.0,>=0.3.37->langchain-google-genai) (2.1)\n",
      "Requirement already satisfied: httpx<1,>=0.23.0 in c:\\users\\sri krishna mishra\\anaconda3\\lib\\site-packages (from langsmith<0.4,>=0.1.125->langchain-core<0.4.0,>=0.3.37->langchain-google-genai) (0.28.1)\n",
      "Requirement already satisfied: orjson<4.0.0,>=3.9.14 in c:\\users\\sri krishna mishra\\anaconda3\\lib\\site-packages (from langsmith<0.4,>=0.1.125->langchain-core<0.4.0,>=0.3.37->langchain-google-genai) (3.10.16)\n",
      "Requirement already satisfied: requests-toolbelt<2.0.0,>=1.0.0 in c:\\users\\sri krishna mishra\\anaconda3\\lib\\site-packages (from langsmith<0.4,>=0.1.125->langchain-core<0.4.0,>=0.3.37->langchain-google-genai) (1.0.0)\n",
      "Requirement already satisfied: zstandard<0.24.0,>=0.23.0 in c:\\users\\sri krishna mishra\\anaconda3\\lib\\site-packages (from langsmith<0.4,>=0.1.125->langchain-core<0.4.0,>=0.3.37->langchain-google-genai) (0.23.0)\n",
      "Requirement already satisfied: pyasn1<0.5.0,>=0.4.6 in c:\\users\\sri krishna mishra\\anaconda3\\lib\\site-packages (from pyasn1-modules>=0.2.1->google-auth>=2.15.0->google-generativeai) (0.4.8)\n",
      "Requirement already satisfied: charset-normalizer<4,>=2 in c:\\users\\sri krishna mishra\\anaconda3\\lib\\site-packages (from requests<3.0.0,>=2.18.0->google-api-core->google-generativeai) (2.0.4)\n",
      "Requirement already satisfied: idna<4,>=2.5 in c:\\users\\sri krishna mishra\\anaconda3\\lib\\site-packages (from requests<3.0.0,>=2.18.0->google-api-core->google-generativeai) (3.7)\n",
      "Requirement already satisfied: urllib3<3,>=1.21.1 in c:\\users\\sri krishna mishra\\anaconda3\\lib\\site-packages (from requests<3.0.0,>=2.18.0->google-api-core->google-generativeai) (2.2.2)\n",
      "Requirement already satisfied: certifi>=2017.4.17 in c:\\users\\sri krishna mishra\\anaconda3\\lib\\site-packages (from requests<3.0.0,>=2.18.0->google-api-core->google-generativeai) (2025.1.31)\n",
      "Requirement already satisfied: anyio in c:\\users\\sri krishna mishra\\anaconda3\\lib\\site-packages (from httpx<1,>=0.23.0->langsmith<0.4,>=0.1.125->langchain-core<0.4.0,>=0.3.37->langchain-google-genai) (4.2.0)\n",
      "Requirement already satisfied: httpcore==1.* in c:\\users\\sri krishna mishra\\anaconda3\\lib\\site-packages (from httpx<1,>=0.23.0->langsmith<0.4,>=0.1.125->langchain-core<0.4.0,>=0.3.37->langchain-google-genai) (1.0.2)\n",
      "Requirement already satisfied: h11<0.15,>=0.13 in c:\\users\\sri krishna mishra\\anaconda3\\lib\\site-packages (from httpcore==1.*->httpx<1,>=0.23.0->langsmith<0.4,>=0.1.125->langchain-core<0.4.0,>=0.3.37->langchain-google-genai) (0.14.0)\n",
      "Requirement already satisfied: sniffio>=1.1 in c:\\users\\sri krishna mishra\\anaconda3\\lib\\site-packages (from anyio->httpx<1,>=0.23.0->langsmith<0.4,>=0.1.125->langchain-core<0.4.0,>=0.3.37->langchain-google-genai) (1.3.0)\n",
      "Note: you may need to restart the kernel to use updated packages.\n"
     ]
    }
   ],
   "source": [
    "pip install langchain-google-genai google-generativeai\n"
   ]
  },
  {
   "cell_type": "code",
   "execution_count": 32,
   "metadata": {},
   "outputs": [
    {
     "ename": "DefaultCredentialsError",
     "evalue": "File C:/path/to/your/service-account-key.json was not found.",
     "output_type": "error",
     "traceback": [
      "\u001b[1;31m---------------------------------------------------------------------------\u001b[0m",
      "\u001b[1;31mDefaultCredentialsError\u001b[0m                   Traceback (most recent call last)",
      "Cell \u001b[1;32mIn[32], line 8\u001b[0m\n\u001b[0;32m      5\u001b[0m os\u001b[38;5;241m.\u001b[39menviron[\u001b[38;5;124m\"\u001b[39m\u001b[38;5;124mGOOGLE_APPLICATION_CREDENTIALS\u001b[39m\u001b[38;5;124m\"\u001b[39m] \u001b[38;5;241m=\u001b[39m \u001b[38;5;124m\"\u001b[39m\u001b[38;5;124mC:/path/to/your/service-account-key.json\u001b[39m\u001b[38;5;124m\"\u001b[39m  \u001b[38;5;66;03m# Replace with the actual path to your service account key file\u001b[39;00m\n\u001b[0;32m      7\u001b[0m \u001b[38;5;66;03m# Initialize Gemini model\u001b[39;00m\n\u001b[1;32m----> 8\u001b[0m llm \u001b[38;5;241m=\u001b[39m ChatGoogleGenerativeAI(model\u001b[38;5;241m=\u001b[39m\u001b[38;5;124m\"\u001b[39m\u001b[38;5;124mgemini-pro\u001b[39m\u001b[38;5;124m\"\u001b[39m)\n",
      "File \u001b[1;32mc:\\Users\\Sri krishna mishra\\anaconda3\\Lib\\site-packages\\langchain_core\\load\\serializable.py:130\u001b[0m, in \u001b[0;36mSerializable.__init__\u001b[1;34m(self, *args, **kwargs)\u001b[0m\n\u001b[0;32m    128\u001b[0m \u001b[38;5;28;01mdef\u001b[39;00m \u001b[38;5;21m__init__\u001b[39m(\u001b[38;5;28mself\u001b[39m, \u001b[38;5;241m*\u001b[39margs: Any, \u001b[38;5;241m*\u001b[39m\u001b[38;5;241m*\u001b[39mkwargs: Any) \u001b[38;5;241m-\u001b[39m\u001b[38;5;241m>\u001b[39m \u001b[38;5;28;01mNone\u001b[39;00m:\n\u001b[0;32m    129\u001b[0m \u001b[38;5;250m    \u001b[39m\u001b[38;5;124;03m\"\"\"\"\"\"\u001b[39;00m  \u001b[38;5;66;03m# noqa: D419\u001b[39;00m\n\u001b[1;32m--> 130\u001b[0m     \u001b[38;5;28msuper\u001b[39m()\u001b[38;5;241m.\u001b[39m\u001b[38;5;21m__init__\u001b[39m(\u001b[38;5;241m*\u001b[39margs, \u001b[38;5;241m*\u001b[39m\u001b[38;5;241m*\u001b[39mkwargs)\n",
      "    \u001b[1;31m[... skipping hidden 1 frame]\u001b[0m\n",
      "File \u001b[1;32mc:\\Users\\Sri krishna mishra\\anaconda3\\Lib\\site-packages\\langchain_google_genai\\chat_models.py:853\u001b[0m, in \u001b[0;36mChatGoogleGenerativeAI.validate_environment\u001b[1;34m(self)\u001b[0m\n\u001b[0;32m    851\u001b[0m         google_api_key \u001b[38;5;241m=\u001b[39m \u001b[38;5;28mself\u001b[39m\u001b[38;5;241m.\u001b[39mgoogle_api_key\n\u001b[0;32m    852\u001b[0m transport: Optional[\u001b[38;5;28mstr\u001b[39m] \u001b[38;5;241m=\u001b[39m \u001b[38;5;28mself\u001b[39m\u001b[38;5;241m.\u001b[39mtransport\n\u001b[1;32m--> 853\u001b[0m \u001b[38;5;28mself\u001b[39m\u001b[38;5;241m.\u001b[39mclient \u001b[38;5;241m=\u001b[39m genaix\u001b[38;5;241m.\u001b[39mbuild_generative_service(\n\u001b[0;32m    854\u001b[0m     credentials\u001b[38;5;241m=\u001b[39m\u001b[38;5;28mself\u001b[39m\u001b[38;5;241m.\u001b[39mcredentials,\n\u001b[0;32m    855\u001b[0m     api_key\u001b[38;5;241m=\u001b[39mgoogle_api_key,\n\u001b[0;32m    856\u001b[0m     client_info\u001b[38;5;241m=\u001b[39mclient_info,\n\u001b[0;32m    857\u001b[0m     client_options\u001b[38;5;241m=\u001b[39m\u001b[38;5;28mself\u001b[39m\u001b[38;5;241m.\u001b[39mclient_options,\n\u001b[0;32m    858\u001b[0m     transport\u001b[38;5;241m=\u001b[39mtransport,\n\u001b[0;32m    859\u001b[0m )\n\u001b[0;32m    860\u001b[0m \u001b[38;5;28mself\u001b[39m\u001b[38;5;241m.\u001b[39masync_client_running \u001b[38;5;241m=\u001b[39m \u001b[38;5;28;01mNone\u001b[39;00m\n\u001b[0;32m    861\u001b[0m \u001b[38;5;28;01mreturn\u001b[39;00m \u001b[38;5;28mself\u001b[39m\n",
      "File \u001b[1;32mc:\\Users\\Sri krishna mishra\\anaconda3\\Lib\\site-packages\\langchain_google_genai\\_genai_extension.py:276\u001b[0m, in \u001b[0;36mbuild_generative_service\u001b[1;34m(credentials, api_key, client_options, client_info, transport)\u001b[0m\n\u001b[0;32m    262\u001b[0m \u001b[38;5;28;01mdef\u001b[39;00m \u001b[38;5;21mbuild_generative_service\u001b[39m(\n\u001b[0;32m    263\u001b[0m     credentials: Optional[credentials\u001b[38;5;241m.\u001b[39mCredentials] \u001b[38;5;241m=\u001b[39m \u001b[38;5;28;01mNone\u001b[39;00m,\n\u001b[0;32m    264\u001b[0m     api_key: Optional[\u001b[38;5;28mstr\u001b[39m] \u001b[38;5;241m=\u001b[39m \u001b[38;5;28;01mNone\u001b[39;00m,\n\u001b[1;32m   (...)\u001b[0m\n\u001b[0;32m    267\u001b[0m     transport: Optional[\u001b[38;5;28mstr\u001b[39m] \u001b[38;5;241m=\u001b[39m \u001b[38;5;28;01mNone\u001b[39;00m,\n\u001b[0;32m    268\u001b[0m ) \u001b[38;5;241m-\u001b[39m\u001b[38;5;241m>\u001b[39m v1betaGenerativeServiceClient:\n\u001b[0;32m    269\u001b[0m     config \u001b[38;5;241m=\u001b[39m _prepare_config(\n\u001b[0;32m    270\u001b[0m         credentials\u001b[38;5;241m=\u001b[39mcredentials,\n\u001b[0;32m    271\u001b[0m         api_key\u001b[38;5;241m=\u001b[39mapi_key,\n\u001b[1;32m   (...)\u001b[0m\n\u001b[0;32m    274\u001b[0m         client_info\u001b[38;5;241m=\u001b[39mclient_info,\n\u001b[0;32m    275\u001b[0m     )\n\u001b[1;32m--> 276\u001b[0m     \u001b[38;5;28;01mreturn\u001b[39;00m v1betaGenerativeServiceClient(\u001b[38;5;241m*\u001b[39m\u001b[38;5;241m*\u001b[39mconfig)\n",
      "File \u001b[1;32mc:\\Users\\Sri krishna mishra\\anaconda3\\Lib\\site-packages\\google\\ai\\generativelanguage_v1beta\\services\\generative_service\\client.py:667\u001b[0m, in \u001b[0;36mGenerativeServiceClient.__init__\u001b[1;34m(self, credentials, transport, client_options, client_info)\u001b[0m\n\u001b[0;32m    658\u001b[0m     transport_init: Union[\n\u001b[0;32m    659\u001b[0m         Type[GenerativeServiceTransport],\n\u001b[0;32m    660\u001b[0m         Callable[\u001b[38;5;241m.\u001b[39m\u001b[38;5;241m.\u001b[39m\u001b[38;5;241m.\u001b[39m, GenerativeServiceTransport],\n\u001b[1;32m   (...)\u001b[0m\n\u001b[0;32m    664\u001b[0m         \u001b[38;5;28;01melse\u001b[39;00m cast(Callable[\u001b[38;5;241m.\u001b[39m\u001b[38;5;241m.\u001b[39m\u001b[38;5;241m.\u001b[39m, GenerativeServiceTransport], transport)\n\u001b[0;32m    665\u001b[0m     )\n\u001b[0;32m    666\u001b[0m     \u001b[38;5;66;03m# initialize with the provided callable or the passed in class\u001b[39;00m\n\u001b[1;32m--> 667\u001b[0m     \u001b[38;5;28mself\u001b[39m\u001b[38;5;241m.\u001b[39m_transport \u001b[38;5;241m=\u001b[39m transport_init(\n\u001b[0;32m    668\u001b[0m         credentials\u001b[38;5;241m=\u001b[39mcredentials,\n\u001b[0;32m    669\u001b[0m         credentials_file\u001b[38;5;241m=\u001b[39m\u001b[38;5;28mself\u001b[39m\u001b[38;5;241m.\u001b[39m_client_options\u001b[38;5;241m.\u001b[39mcredentials_file,\n\u001b[0;32m    670\u001b[0m         host\u001b[38;5;241m=\u001b[39m\u001b[38;5;28mself\u001b[39m\u001b[38;5;241m.\u001b[39m_api_endpoint,\n\u001b[0;32m    671\u001b[0m         scopes\u001b[38;5;241m=\u001b[39m\u001b[38;5;28mself\u001b[39m\u001b[38;5;241m.\u001b[39m_client_options\u001b[38;5;241m.\u001b[39mscopes,\n\u001b[0;32m    672\u001b[0m         client_cert_source_for_mtls\u001b[38;5;241m=\u001b[39m\u001b[38;5;28mself\u001b[39m\u001b[38;5;241m.\u001b[39m_client_cert_source,\n\u001b[0;32m    673\u001b[0m         quota_project_id\u001b[38;5;241m=\u001b[39m\u001b[38;5;28mself\u001b[39m\u001b[38;5;241m.\u001b[39m_client_options\u001b[38;5;241m.\u001b[39mquota_project_id,\n\u001b[0;32m    674\u001b[0m         client_info\u001b[38;5;241m=\u001b[39mclient_info,\n\u001b[0;32m    675\u001b[0m         always_use_jwt_access\u001b[38;5;241m=\u001b[39m\u001b[38;5;28;01mTrue\u001b[39;00m,\n\u001b[0;32m    676\u001b[0m         api_audience\u001b[38;5;241m=\u001b[39m\u001b[38;5;28mself\u001b[39m\u001b[38;5;241m.\u001b[39m_client_options\u001b[38;5;241m.\u001b[39mapi_audience,\n\u001b[0;32m    677\u001b[0m     )\n\u001b[0;32m    679\u001b[0m \u001b[38;5;28;01mif\u001b[39;00m \u001b[38;5;124m\"\u001b[39m\u001b[38;5;124masync\u001b[39m\u001b[38;5;124m\"\u001b[39m \u001b[38;5;129;01mnot\u001b[39;00m \u001b[38;5;129;01min\u001b[39;00m \u001b[38;5;28mstr\u001b[39m(\u001b[38;5;28mself\u001b[39m\u001b[38;5;241m.\u001b[39m_transport):\n\u001b[0;32m    680\u001b[0m     \u001b[38;5;28;01mif\u001b[39;00m CLIENT_LOGGING_SUPPORTED \u001b[38;5;129;01mand\u001b[39;00m _LOGGER\u001b[38;5;241m.\u001b[39misEnabledFor(\n\u001b[0;32m    681\u001b[0m         std_logging\u001b[38;5;241m.\u001b[39mDEBUG\n\u001b[0;32m    682\u001b[0m     ):  \u001b[38;5;66;03m# pragma: NO COVER\u001b[39;00m\n",
      "File \u001b[1;32mc:\\Users\\Sri krishna mishra\\anaconda3\\Lib\\site-packages\\google\\ai\\generativelanguage_v1beta\\services\\generative_service\\transports\\grpc.py:235\u001b[0m, in \u001b[0;36mGenerativeServiceGrpcTransport.__init__\u001b[1;34m(self, host, credentials, credentials_file, scopes, channel, api_mtls_endpoint, client_cert_source, ssl_channel_credentials, client_cert_source_for_mtls, quota_project_id, client_info, always_use_jwt_access, api_audience)\u001b[0m\n\u001b[0;32m    230\u001b[0m             \u001b[38;5;28mself\u001b[39m\u001b[38;5;241m.\u001b[39m_ssl_channel_credentials \u001b[38;5;241m=\u001b[39m grpc\u001b[38;5;241m.\u001b[39mssl_channel_credentials(\n\u001b[0;32m    231\u001b[0m                 certificate_chain\u001b[38;5;241m=\u001b[39mcert, private_key\u001b[38;5;241m=\u001b[39mkey\n\u001b[0;32m    232\u001b[0m             )\n\u001b[0;32m    234\u001b[0m \u001b[38;5;66;03m# The base transport sets the host, credentials and scopes\u001b[39;00m\n\u001b[1;32m--> 235\u001b[0m \u001b[38;5;28msuper\u001b[39m()\u001b[38;5;241m.\u001b[39m\u001b[38;5;21m__init__\u001b[39m(\n\u001b[0;32m    236\u001b[0m     host\u001b[38;5;241m=\u001b[39mhost,\n\u001b[0;32m    237\u001b[0m     credentials\u001b[38;5;241m=\u001b[39mcredentials,\n\u001b[0;32m    238\u001b[0m     credentials_file\u001b[38;5;241m=\u001b[39mcredentials_file,\n\u001b[0;32m    239\u001b[0m     scopes\u001b[38;5;241m=\u001b[39mscopes,\n\u001b[0;32m    240\u001b[0m     quota_project_id\u001b[38;5;241m=\u001b[39mquota_project_id,\n\u001b[0;32m    241\u001b[0m     client_info\u001b[38;5;241m=\u001b[39mclient_info,\n\u001b[0;32m    242\u001b[0m     always_use_jwt_access\u001b[38;5;241m=\u001b[39malways_use_jwt_access,\n\u001b[0;32m    243\u001b[0m     api_audience\u001b[38;5;241m=\u001b[39mapi_audience,\n\u001b[0;32m    244\u001b[0m )\n\u001b[0;32m    246\u001b[0m \u001b[38;5;28;01mif\u001b[39;00m \u001b[38;5;129;01mnot\u001b[39;00m \u001b[38;5;28mself\u001b[39m\u001b[38;5;241m.\u001b[39m_grpc_channel:\n\u001b[0;32m    247\u001b[0m     \u001b[38;5;66;03m# initialize with the provided callable or the default channel\u001b[39;00m\n\u001b[0;32m    248\u001b[0m     channel_init \u001b[38;5;241m=\u001b[39m channel \u001b[38;5;129;01mor\u001b[39;00m \u001b[38;5;28mtype\u001b[39m(\u001b[38;5;28mself\u001b[39m)\u001b[38;5;241m.\u001b[39mcreate_channel\n",
      "File \u001b[1;32mc:\\Users\\Sri krishna mishra\\anaconda3\\Lib\\site-packages\\google\\ai\\generativelanguage_v1beta\\services\\generative_service\\transports\\base.py:100\u001b[0m, in \u001b[0;36mGenerativeServiceTransport.__init__\u001b[1;34m(self, host, credentials, credentials_file, scopes, quota_project_id, client_info, always_use_jwt_access, api_audience, **kwargs)\u001b[0m\n\u001b[0;32m     96\u001b[0m     credentials, _ \u001b[38;5;241m=\u001b[39m google\u001b[38;5;241m.\u001b[39mauth\u001b[38;5;241m.\u001b[39mload_credentials_from_file(\n\u001b[0;32m     97\u001b[0m         credentials_file, \u001b[38;5;241m*\u001b[39m\u001b[38;5;241m*\u001b[39mscopes_kwargs, quota_project_id\u001b[38;5;241m=\u001b[39mquota_project_id\n\u001b[0;32m     98\u001b[0m     )\n\u001b[0;32m     99\u001b[0m \u001b[38;5;28;01melif\u001b[39;00m credentials \u001b[38;5;129;01mis\u001b[39;00m \u001b[38;5;28;01mNone\u001b[39;00m \u001b[38;5;129;01mand\u001b[39;00m \u001b[38;5;129;01mnot\u001b[39;00m \u001b[38;5;28mself\u001b[39m\u001b[38;5;241m.\u001b[39m_ignore_credentials:\n\u001b[1;32m--> 100\u001b[0m     credentials, _ \u001b[38;5;241m=\u001b[39m google\u001b[38;5;241m.\u001b[39mauth\u001b[38;5;241m.\u001b[39mdefault(\n\u001b[0;32m    101\u001b[0m         \u001b[38;5;241m*\u001b[39m\u001b[38;5;241m*\u001b[39mscopes_kwargs, quota_project_id\u001b[38;5;241m=\u001b[39mquota_project_id\n\u001b[0;32m    102\u001b[0m     )\n\u001b[0;32m    103\u001b[0m     \u001b[38;5;66;03m# Don't apply audience if the credentials file passed from user.\u001b[39;00m\n\u001b[0;32m    104\u001b[0m     \u001b[38;5;28;01mif\u001b[39;00m \u001b[38;5;28mhasattr\u001b[39m(credentials, \u001b[38;5;124m\"\u001b[39m\u001b[38;5;124mwith_gdch_audience\u001b[39m\u001b[38;5;124m\"\u001b[39m):\n",
      "File \u001b[1;32mc:\\Users\\Sri krishna mishra\\anaconda3\\Lib\\site-packages\\google\\auth\\_default.py:685\u001b[0m, in \u001b[0;36mdefault\u001b[1;34m(scopes, request, quota_project_id, default_scopes)\u001b[0m\n\u001b[0;32m    673\u001b[0m checkers \u001b[38;5;241m=\u001b[39m (\n\u001b[0;32m    674\u001b[0m     \u001b[38;5;66;03m# Avoid passing scopes here to prevent passing scopes to user credentials.\u001b[39;00m\n\u001b[0;32m    675\u001b[0m     \u001b[38;5;66;03m# with_scopes_if_required() below will ensure scopes/default scopes are\u001b[39;00m\n\u001b[1;32m   (...)\u001b[0m\n\u001b[0;32m    681\u001b[0m     \u001b[38;5;28;01mlambda\u001b[39;00m: _get_gce_credentials(request, quota_project_id\u001b[38;5;241m=\u001b[39mquota_project_id),\n\u001b[0;32m    682\u001b[0m )\n\u001b[0;32m    684\u001b[0m \u001b[38;5;28;01mfor\u001b[39;00m checker \u001b[38;5;129;01min\u001b[39;00m checkers:\n\u001b[1;32m--> 685\u001b[0m     credentials, project_id \u001b[38;5;241m=\u001b[39m checker()\n\u001b[0;32m    686\u001b[0m     \u001b[38;5;28;01mif\u001b[39;00m credentials \u001b[38;5;129;01mis\u001b[39;00m \u001b[38;5;129;01mnot\u001b[39;00m \u001b[38;5;28;01mNone\u001b[39;00m:\n\u001b[0;32m    687\u001b[0m         credentials \u001b[38;5;241m=\u001b[39m with_scopes_if_required(\n\u001b[0;32m    688\u001b[0m             credentials, scopes, default_scopes\u001b[38;5;241m=\u001b[39mdefault_scopes\n\u001b[0;32m    689\u001b[0m         )\n",
      "File \u001b[1;32mc:\\Users\\Sri krishna mishra\\anaconda3\\Lib\\site-packages\\google\\auth\\_default.py:678\u001b[0m, in \u001b[0;36mdefault.<locals>.<lambda>\u001b[1;34m()\u001b[0m\n\u001b[0;32m    667\u001b[0m \u001b[38;5;28;01mfrom\u001b[39;00m \u001b[38;5;21;01mgoogle\u001b[39;00m\u001b[38;5;21;01m.\u001b[39;00m\u001b[38;5;21;01mauth\u001b[39;00m\u001b[38;5;21;01m.\u001b[39;00m\u001b[38;5;21;01mcredentials\u001b[39;00m \u001b[38;5;28;01mimport\u001b[39;00m CredentialsWithQuotaProject\n\u001b[0;32m    669\u001b[0m explicit_project_id \u001b[38;5;241m=\u001b[39m os\u001b[38;5;241m.\u001b[39menviron\u001b[38;5;241m.\u001b[39mget(\n\u001b[0;32m    670\u001b[0m     environment_vars\u001b[38;5;241m.\u001b[39mPROJECT, os\u001b[38;5;241m.\u001b[39menviron\u001b[38;5;241m.\u001b[39mget(environment_vars\u001b[38;5;241m.\u001b[39mLEGACY_PROJECT)\n\u001b[0;32m    671\u001b[0m )\n\u001b[0;32m    673\u001b[0m checkers \u001b[38;5;241m=\u001b[39m (\n\u001b[0;32m    674\u001b[0m     \u001b[38;5;66;03m# Avoid passing scopes here to prevent passing scopes to user credentials.\u001b[39;00m\n\u001b[0;32m    675\u001b[0m     \u001b[38;5;66;03m# with_scopes_if_required() below will ensure scopes/default scopes are\u001b[39;00m\n\u001b[0;32m    676\u001b[0m     \u001b[38;5;66;03m# safely set on the returned credentials since requires_scopes will\u001b[39;00m\n\u001b[0;32m    677\u001b[0m     \u001b[38;5;66;03m# guard against setting scopes on user credentials.\u001b[39;00m\n\u001b[1;32m--> 678\u001b[0m     \u001b[38;5;28;01mlambda\u001b[39;00m: _get_explicit_environ_credentials(quota_project_id\u001b[38;5;241m=\u001b[39mquota_project_id),\n\u001b[0;32m    679\u001b[0m     \u001b[38;5;28;01mlambda\u001b[39;00m: _get_gcloud_sdk_credentials(quota_project_id\u001b[38;5;241m=\u001b[39mquota_project_id),\n\u001b[0;32m    680\u001b[0m     _get_gae_credentials,\n\u001b[0;32m    681\u001b[0m     \u001b[38;5;28;01mlambda\u001b[39;00m: _get_gce_credentials(request, quota_project_id\u001b[38;5;241m=\u001b[39mquota_project_id),\n\u001b[0;32m    682\u001b[0m )\n\u001b[0;32m    684\u001b[0m \u001b[38;5;28;01mfor\u001b[39;00m checker \u001b[38;5;129;01min\u001b[39;00m checkers:\n\u001b[0;32m    685\u001b[0m     credentials, project_id \u001b[38;5;241m=\u001b[39m checker()\n",
      "File \u001b[1;32mc:\\Users\\Sri krishna mishra\\anaconda3\\Lib\\site-packages\\google\\auth\\_default.py:293\u001b[0m, in \u001b[0;36m_get_explicit_environ_credentials\u001b[1;34m(quota_project_id)\u001b[0m\n\u001b[0;32m    290\u001b[0m     \u001b[38;5;28;01mreturn\u001b[39;00m _get_gcloud_sdk_credentials(quota_project_id\u001b[38;5;241m=\u001b[39mquota_project_id)\n\u001b[0;32m    292\u001b[0m \u001b[38;5;28;01mif\u001b[39;00m explicit_file \u001b[38;5;129;01mis\u001b[39;00m \u001b[38;5;129;01mnot\u001b[39;00m \u001b[38;5;28;01mNone\u001b[39;00m:\n\u001b[1;32m--> 293\u001b[0m     credentials, project_id \u001b[38;5;241m=\u001b[39m load_credentials_from_file(\n\u001b[0;32m    294\u001b[0m         os\u001b[38;5;241m.\u001b[39menviron[environment_vars\u001b[38;5;241m.\u001b[39mCREDENTIALS], quota_project_id\u001b[38;5;241m=\u001b[39mquota_project_id\n\u001b[0;32m    295\u001b[0m     )\n\u001b[0;32m    296\u001b[0m     credentials\u001b[38;5;241m.\u001b[39m_cred_file_path \u001b[38;5;241m=\u001b[39m \u001b[38;5;124mf\u001b[39m\u001b[38;5;124m\"\u001b[39m\u001b[38;5;132;01m{\u001b[39;00mexplicit_file\u001b[38;5;132;01m}\u001b[39;00m\u001b[38;5;124m file via the GOOGLE_APPLICATION_CREDENTIALS environment variable\u001b[39m\u001b[38;5;124m\"\u001b[39m\n\u001b[0;32m    298\u001b[0m     \u001b[38;5;28;01mreturn\u001b[39;00m credentials, project_id\n",
      "File \u001b[1;32mc:\\Users\\Sri krishna mishra\\anaconda3\\Lib\\site-packages\\google\\auth\\_default.py:125\u001b[0m, in \u001b[0;36mload_credentials_from_file\u001b[1;34m(filename, scopes, default_scopes, quota_project_id, request)\u001b[0m\n\u001b[0;32m     82\u001b[0m \u001b[38;5;250m\u001b[39m\u001b[38;5;124;03m\"\"\"Loads Google credentials from a file.\u001b[39;00m\n\u001b[0;32m     83\u001b[0m \n\u001b[0;32m     84\u001b[0m \u001b[38;5;124;03mThe credentials file must be a service account key, stored authorized\u001b[39;00m\n\u001b[1;32m   (...)\u001b[0m\n\u001b[0;32m    122\u001b[0m \u001b[38;5;124;03m        wrong format or is missing.\u001b[39;00m\n\u001b[0;32m    123\u001b[0m \u001b[38;5;124;03m\"\"\"\u001b[39;00m\n\u001b[0;32m    124\u001b[0m \u001b[38;5;28;01mif\u001b[39;00m \u001b[38;5;129;01mnot\u001b[39;00m os\u001b[38;5;241m.\u001b[39mpath\u001b[38;5;241m.\u001b[39mexists(filename):\n\u001b[1;32m--> 125\u001b[0m     \u001b[38;5;28;01mraise\u001b[39;00m exceptions\u001b[38;5;241m.\u001b[39mDefaultCredentialsError(\n\u001b[0;32m    126\u001b[0m         \u001b[38;5;124m\"\u001b[39m\u001b[38;5;124mFile \u001b[39m\u001b[38;5;132;01m{}\u001b[39;00m\u001b[38;5;124m was not found.\u001b[39m\u001b[38;5;124m\"\u001b[39m\u001b[38;5;241m.\u001b[39mformat(filename)\n\u001b[0;32m    127\u001b[0m     )\n\u001b[0;32m    129\u001b[0m \u001b[38;5;28;01mwith\u001b[39;00m io\u001b[38;5;241m.\u001b[39mopen(filename, \u001b[38;5;124m\"\u001b[39m\u001b[38;5;124mr\u001b[39m\u001b[38;5;124m\"\u001b[39m) \u001b[38;5;28;01mas\u001b[39;00m file_obj:\n\u001b[0;32m    130\u001b[0m     \u001b[38;5;28;01mtry\u001b[39;00m:\n",
      "\u001b[1;31mDefaultCredentialsError\u001b[0m: File C:/path/to/your/service-account-key.json was not found."
     ]
    }
   ],
   "source": [
    "import os\n",
    "from langchain_google_genai import ChatGoogleGenerativeAI\n",
    "\n",
    "# Set the path to your service account key file\n",
    "os.environ[\"GOOGLE_APPLICATION_CREDENTIALS\"] = \"C:/path/to/your/service-account-key.json\"  # Replace with the actual path to your service account key file\n",
    "\n",
    "# Initialize Gemini model\n",
    "llm = ChatGoogleGenerativeAI(model=\"gemini-pro\")\n",
    "\n",
    "\n"
   ]
  },
  {
   "cell_type": "code",
   "execution_count": 80,
   "metadata": {},
   "outputs": [],
   "source": [
    "prompt_template = \"\"\"You are an expert at creating questions based on coding materials and documentation.\n",
    "       Your goal is to prepare a coder or programmer for their exam and coding tests.\n",
    "       You do this by asking questions about the test below:\n",
    "\n",
    "------------------    {text}    ------------------            \n",
    "\n",
    "Create question that will prepare the coders or programmers for their tests.\n",
    " Make sure not to lose any importent information.\n",
    "\n",
    "QUESTIONS: \n",
    "   \n",
    "   \"\"\""
   ]
  },
  {
   "cell_type": "code",
   "execution_count": 81,
   "metadata": {},
   "outputs": [],
   "source": [
    "from langchain.prompts import PromptTemplate"
   ]
  },
  {
   "cell_type": "code",
   "execution_count": 82,
   "metadata": {},
   "outputs": [],
   "source": [
    "PROMPT_QUESTIONS = PromptTemplate(\n",
    "    template=prompt_template,\n",
    "    input_variables=[\"text\"],\n",
    "    # output_parser=CustomOutputParser()\n",
    ")"
   ]
  },
  {
   "cell_type": "code",
   "execution_count": 83,
   "metadata": {},
   "outputs": [],
   "source": [
    "refine_template = (\"\"\"\n",
    "You are an expert at creating practice questions based on coding material and documentation.\n",
    "Your goal is to help a coder or programmer prepare for a coding test.\n",
    "We have received some practice questions to a certain extent: {existing_answer}.\n",
    "We have the option to refine the existing questions or add new ones.\n",
    "(only if necessary) with some more context below.\n",
    "------------\n",
    "{text}\n",
    "------------\n",
    "\n",
    "Given the new context, refine the original questions in English.\n",
    "If the context is not helpful, please provide the original questions.\n",
    "QUESTIONS:\n",
    "\"\"\"\n",
    ")"
   ]
  },
  {
   "cell_type": "code",
   "execution_count": 84,
   "metadata": {},
   "outputs": [],
   "source": [
    "REFINE_PROMPT_QUESTIONS = PromptTemplate(\n",
    "    input_variables=[\"existing_answer\", \"text\"],\n",
    "    template=refine_template,\n",
    ")"
   ]
  },
  {
   "cell_type": "code",
   "execution_count": 85,
   "metadata": {},
   "outputs": [],
   "source": [
    "from langchain.chains.summarize import load_summarize_chain"
   ]
  },
  {
   "cell_type": "code",
   "execution_count": 87,
   "metadata": {},
   "outputs": [],
   "source": [
    "ques_gen_chain = load_summarize_chain(llm=llm, \n",
    "                                      chain_type=\"refine\", \n",
    "                                      verbose=True, \n",
    "                                      question_prompt=PROMPT_QUESTIONS, \n",
    "                                      refine_prompt=REFINE_PROMPT_QUESTIONS)"
   ]
  },
  {
   "cell_type": "code",
   "execution_count": 97,
   "metadata": {},
   "outputs": [
    {
     "ename": "NameError",
     "evalue": "name 'HumanMessage' is not defined",
     "output_type": "error",
     "traceback": [
      "\u001b[1;31m---------------------------------------------------------------------------\u001b[0m",
      "\u001b[1;31mNameError\u001b[0m                                 Traceback (most recent call last)",
      "Cell \u001b[1;32mIn[97], line 2\u001b[0m\n\u001b[0;32m      1\u001b[0m \u001b[38;5;66;03m# Generate response\u001b[39;00m\n\u001b[1;32m----> 2\u001b[0m response \u001b[38;5;241m=\u001b[39m llm\u001b[38;5;241m.\u001b[39minvoke([HumanMessage(content\u001b[38;5;241m=\u001b[39mdocument_ques_gen)])\n",
      "\u001b[1;31mNameError\u001b[0m: name 'HumanMessage' is not defined"
     ]
    }
   ],
   "source": [
    "# Generate response\n",
    "response = llm.invoke([HumanMessage(content=document_ques_gen)])"
   ]
  }
 ],
 "metadata": {
  "kernelspec": {
   "display_name": "base",
   "language": "python",
   "name": "python3"
  },
  "language_info": {
   "codemirror_mode": {
    "name": "ipython",
    "version": 3
   },
   "file_extension": ".py",
   "mimetype": "text/x-python",
   "name": "python",
   "nbconvert_exporter": "python",
   "pygments_lexer": "ipython3",
   "version": "3.12.4"
  }
 },
 "nbformat": 4,
 "nbformat_minor": 2
}
